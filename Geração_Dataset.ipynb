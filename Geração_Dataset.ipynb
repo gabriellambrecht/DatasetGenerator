{
  "nbformat": 4,
  "nbformat_minor": 0,
  "metadata": {
    "colab": {
      "name": "Geração Dataset.ipynb",
      "provenance": [],
      "mount_file_id": "16bGhsPxe7wJXKFncZIuudROcNCXa6wAX",
      "authorship_tag": "ABX9TyM/gWI3k4px2mzvxcrPVMZs",
      "include_colab_link": true
    },
    "kernelspec": {
      "name": "python3",
      "display_name": "Python 3"
    },
    "language_info": {
      "name": "python"
    }
  },
  "cells": [
    {
      "cell_type": "markdown",
      "metadata": {
        "id": "view-in-github",
        "colab_type": "text"
      },
      "source": [
        "<a href=\"https://colab.research.google.com/github/gabriellambrecht/DatasetGenerator/blob/main/Gera%C3%A7%C3%A3o_Dataset.ipynb\" target=\"_parent\"><img src=\"https://colab.research.google.com/assets/colab-badge.svg\" alt=\"Open In Colab\"/></a>"
      ]
    },
    {
      "cell_type": "code",
      "metadata": {
        "id": "kN1ZdKetwVaE"
      },
      "source": [
        "import dataset_generator\n",
        "\n",
        "data = dataset_generator.DatasetGenerator()\n",
        "data.generate_dataset_as_file()"
      ],
      "execution_count": 6,
      "outputs": []
    },
    {
      "cell_type": "code",
      "metadata": {
        "id": "SIRxCbPCxtqY"
      },
      "source": [
        "import pandas as pd\n",
        "\n",
        "data = pd.read_csv('dataset_feedback.csv', sep=',',header=None, index_col =0)\n",
        "print(len(data))\n",
        "print(len(data[data[1]==-2]))\n",
        "print(len(data[data[1]==-1]))\n",
        "print(len(data[data[1]==0]))\n",
        "print(len(data[data[1]==1]))\n",
        "print(len(data[data[1]==2]))"
      ],
      "execution_count": null,
      "outputs": []
    }
  ]
}